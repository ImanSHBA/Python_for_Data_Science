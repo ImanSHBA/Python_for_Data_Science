{
 "cells": [
  {
   "cell_type": "code",
   "execution_count": 2,
   "metadata": {},
   "outputs": [
    {
     "name": "stdout",
     "output_type": "stream",
     "text": [
      "Hello, Python!\n"
     ]
    }
   ],
   "source": [
    "print(\"Hello, Python\")"
   ]
  },
  {
   "cell_type": "code",
   "execution_count": 3,
   "metadata": {},
   "outputs": [
    {
     "name": "stdout",
     "output_type": "stream",
     "text": [
      "a + b = 48\n",
      "a - b = 26\n",
      "a * b = 407\n",
      "a // b = 3\n"
     ]
    }
   ],
   "source": [
    "a = 37\n",
    "b = 11\n",
    "print(\"a + b =\", a+b)\n",
    "print(\"a - b =\", a-b)\n",
    "print(\"a * b =\", a*b)\n",
    "print(\"a // b =\", a//b)"
   ]
  },
  {
   "cell_type": "code",
   "execution_count": 4,
   "metadata": {},
   "outputs": [
    {
     "name": "stdout",
     "output_type": "stream",
     "text": [
      "Hello, Iman!\n"
     ]
    }
   ],
   "source": [
    "name = \"Iman\"\n",
    "print(f\"Hello, {name}!\")"
   ]
  },
  {
   "cell_type": "code",
   "execution_count": 5,
   "metadata": {},
   "outputs": [
    {
     "name": "stdout",
     "output_type": "stream",
     "text": [
      "['UCLA', 'USC', 'MIT', 'ESADE', 'IE']\n",
      "UCLA IE\n"
     ]
    }
   ],
   "source": [
    "universities = [\"UCLA\",\"USC\",\"MIT\",\"ESADE\",\"IE\"]\n",
    "print(universities)\n",
    "print(universities[0],universities[-1])"
   ]
  },
  {
   "cell_type": "code",
   "execution_count": 6,
   "metadata": {},
   "outputs": [
    {
     "name": "stdout",
     "output_type": "stream",
     "text": [
      "name : Iman\n",
      "age : 23\n",
      "grade : A\n"
     ]
    }
   ],
   "source": [
    "student = {\n",
    "  \"name\": \"Iman\",\n",
    "  \"age\": \"23\",\n",
    "  \"grade\": \"A\"\n",
    "}\n",
    "for i in student:\n",
    "    print (i,\":\",student[i],)"
   ]
  },
  {
   "cell_type": "code",
   "execution_count": 7,
   "metadata": {},
   "outputs": [
    {
     "name": "stdout",
     "output_type": "stream",
     "text": [
      "X: 2321  Y: 7682\n"
     ]
    }
   ],
   "source": [
    "coordinates = [2321,7682]\n",
    "coordinates = tuple(coordinates)\n",
    "print(\"X:\",coordinates[0],\" Y:\",coordinates[1])"
   ]
  },
  {
   "cell_type": "code",
   "execution_count": 8,
   "metadata": {},
   "outputs": [
    {
     "name": "stdout",
     "output_type": "stream",
     "text": [
      "{'green', 'red', 'blue', 'orange'}\n"
     ]
    },
    {
     "data": {
      "text/plain": [
       "{'green', 'orange', 'red', 'yellow'}"
      ]
     },
     "execution_count": 8,
     "metadata": {},
     "output_type": "execute_result"
    }
   ],
   "source": [
    "colors = [\"red\",\"green\",\"blue\"]\n",
    "colors = set(colors)\n",
    "colors.add(\"orange\")\n",
    "colors.add(\"red\")\n",
    "print(colors)\n",
    "colors.remove(\"blue\")\n",
    "light_colors = set()\n",
    "light_colors.add(\"yellow\")\n",
    "colors = colors.union(light_colors)\n",
    "colors"
   ]
  },
  {
   "cell_type": "code",
   "execution_count": 9,
   "metadata": {},
   "outputs": [
    {
     "name": "stdout",
     "output_type": "stream",
     "text": [
      "input your number:-34\n",
      "Negetive!\n"
     ]
    }
   ],
   "source": [
    "number = int(input(\"input your number:\"))\n",
    "if number > 0:\n",
    "    print(\"Positive!\")\n",
    "elif number < 0:\n",
    "    print(\"Negetive!\")\n",
    "else:\n",
    "    print(\"!Zero!\")"
   ]
  },
  {
   "cell_type": "code",
   "execution_count": 10,
   "metadata": {},
   "outputs": [
    {
     "name": "stdout",
     "output_type": "stream",
     "text": [
      "1\n",
      "2\n",
      "3\n",
      "4\n",
      "5\n"
     ]
    }
   ],
   "source": [
    "L = list(range(1,6))\n",
    "for i in L:\n",
    "    print(i)"
   ]
  },
  {
   "cell_type": "code",
   "execution_count": 11,
   "metadata": {},
   "outputs": [
    {
     "name": "stdout",
     "output_type": "stream",
     "text": [
      "1\n",
      "2\n",
      "3\n",
      "4\n",
      "5\n"
     ]
    }
   ],
   "source": [
    "i = 1\n",
    "while i<=5:\n",
    "    print(i)\n",
    "    i +=1"
   ]
  },
  {
   "cell_type": "code",
   "execution_count": 12,
   "metadata": {},
   "outputs": [
    {
     "name": "stdout",
     "output_type": "stream",
     "text": [
      "GRADE:B\n",
      "Good job!\n"
     ]
    }
   ],
   "source": [
    "grade = input(\"GRADE:\")\n",
    "grades = {\"A\": \"Excellent!\",\n",
    "\"B\": \"Good job!\",\n",
    "\"C\": \"Fair.\",\n",
    "\"D\": \"Needs improvement.\",\n",
    "\"F\": \"Failing.\"}\n",
    "if grade in grades.keys():\n",
    "    print(grades[grade])\n",
    "else:\n",
    "    print(\"NA!!!\")\n"
   ]
  },
  {
   "cell_type": "code",
   "execution_count": 13,
   "metadata": {},
   "outputs": [
    {
     "name": "stdout",
     "output_type": "stream",
     "text": [
      "Hello Iman !\n"
     ]
    }
   ],
   "source": [
    "def greet (name):\n",
    "    print(\"Hello {} !\".format(name))\n",
    "greet(\"Iman\")"
   ]
  },
  {
   "cell_type": "code",
   "execution_count": 14,
   "metadata": {},
   "outputs": [
    {
     "name": "stdout",
     "output_type": "stream",
     "text": [
      "1 121 12321\n"
     ]
    }
   ],
   "source": [
    "def square (number):\n",
    "    return number ** 2\n",
    "print(square(1),square(11),square(111))"
   ]
  },
  {
   "cell_type": "code",
   "execution_count": 15,
   "metadata": {},
   "outputs": [
    {
     "name": "stdout",
     "output_type": "stream",
     "text": [
      "30 5\n"
     ]
    }
   ],
   "source": [
    "def multiply (a, b = 1):\n",
    "    return a * b\n",
    "print(multiply(5,6),multiply(5))"
   ]
  },
  {
   "cell_type": "code",
   "execution_count": 16,
   "metadata": {},
   "outputs": [
    {
     "data": {
      "text/plain": [
       "[1, 4, 9, 16, 25, 36, 49, 64, 81, 100]"
      ]
     },
     "execution_count": 16,
     "metadata": {},
     "output_type": "execute_result"
    }
   ],
   "source": [
    "L = list(range(1,11))\n",
    "L2 = [i**2 for i in L]\n",
    "L2"
   ]
  },
  {
   "cell_type": "code",
   "execution_count": 17,
   "metadata": {},
   "outputs": [
    {
     "name": "stdout",
     "output_type": "stream",
     "text": [
      "john : 12.8\n",
      "Lee : 8.6\n",
      "Iman : 19.0\n"
     ]
    }
   ],
   "source": [
    "students = {\n",
    "  \"john\": [18,3,15,16,12],\n",
    "  \"Lee\": [5,4,3,12,19],\n",
    "  \"Iman\": [18,18,19,20,20]\n",
    "}\n",
    "def AVG (dic):\n",
    "    for S in dic:\n",
    "        print(S,\":\",sum(dic[S])/len(dic[S]))\n",
    "AVG(students)"
   ]
  },
  {
   "cell_type": "code",
   "execution_count": 18,
   "metadata": {},
   "outputs": [
    {
     "name": "stdout",
     "output_type": "stream",
     "text": [
      "first number:12\n",
      "second number:3\n",
      "operator:/\n"
     ]
    },
    {
     "data": {
      "text/plain": [
       "4.0"
      ]
     },
     "execution_count": 18,
     "metadata": {},
     "output_type": "execute_result"
    }
   ],
   "source": [
    "def calculate (n1,n2,operator):\n",
    "    if operator == \"+\":\n",
    "        return n1 + n2\n",
    "    elif operator == \"-\":\n",
    "        return n1 - n2\n",
    "    elif operator == \"*\":\n",
    "        return n1 * n2\n",
    "    elif operator == \"/\":\n",
    "        return n1 / n2\n",
    "    else:\n",
    "        return \"ERROR\"\n",
    "number1 = int(input(\"first number:\"))\n",
    "number2 = int(input(\"second number:\"))\n",
    "operator = input(\"operator:\")\n",
    "calculate(number1, number2, operator)\n"
   ]
  }
 ],
 "metadata": {
  "kernelspec": {
   "display_name": "Python 3 (ipykernel)",
   "language": "python",
   "name": "python3"
  },
  "language_info": {
   "codemirror_mode": {
    "name": "ipython",
    "version": 3
   },
   "file_extension": ".py",
   "mimetype": "text/x-python",
   "name": "python",
   "nbconvert_exporter": "python",
   "pygments_lexer": "ipython3",
   "version": "3.10.9"
  }
 },
 "nbformat": 4,
 "nbformat_minor": 2
}
