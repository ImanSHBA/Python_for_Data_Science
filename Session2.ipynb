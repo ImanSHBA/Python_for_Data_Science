{
 "cells": [
  {
   "cell_type": "markdown",
   "metadata": {},
   "source": [
    "Q1 : FizzBuzz"
   ]
  },
  {
   "cell_type": "code",
   "execution_count": 4,
   "metadata": {},
   "outputs": [
    {
     "name": "stdout",
     "output_type": "stream",
     "text": [
      "1\n",
      "2\n",
      "Fizz\n",
      "4\n",
      "Buzz\n",
      "Fizz\n",
      "7\n",
      "8\n",
      "Fizz\n",
      "Buzz\n",
      "11\n",
      "Fizz\n",
      "13\n",
      "14\n",
      "FizzBuzz\n",
      "16\n",
      "17\n",
      "Fizz\n",
      "19\n",
      "Buzz\n"
     ]
    }
   ],
   "source": [
    "def fizzbuzz(n):\n",
    "    if n%3 == 0:\n",
    "        if n%5 == 0:\n",
    "            print(\"FizzBuzz\")\n",
    "        else:\n",
    "            print(\"Fizz\")\n",
    "    elif n%5 == 0:\n",
    "        print(\"Buzz\")\n",
    "    else:\n",
    "        print(n)\n",
    "for i in range(1,21):\n",
    "    fizzbuzz(i)\n"
   ]
  },
  {
   "cell_type": "markdown",
   "metadata": {},
   "source": [
    "Q2 : Basic Data Filtering"
   ]
  },
  {
   "cell_type": "code",
   "execution_count": 1,
   "metadata": {},
   "outputs": [
    {
     "data": {
      "text/plain": [
       "[0, 23, 35]"
      ]
     },
     "execution_count": 1,
     "metadata": {},
     "output_type": "execute_result"
    }
   ],
   "source": [
    "L = [0,\"hello\",23,23.43,54.0,35,\"3\"]\n",
    "L2 = [i for i in L if type(i) is int]\n",
    "L2"
   ]
  },
  {
   "cell_type": "markdown",
   "metadata": {},
   "source": [
    "Q3 : Simple To-Do List"
   ]
  },
  {
   "cell_type": "code",
   "execution_count": 11,
   "metadata": {},
   "outputs": [
    {
     "name": "stdout",
     "output_type": "stream",
     "text": [
      "['Push repository']\n"
     ]
    }
   ],
   "source": [
    "todo_list = []\n",
    "def add_task(task):\n",
    "    todo_list.append(task)\n",
    "def show_task():\n",
    "    print(todo_list)\n",
    "add_task(\"Push repository\")\n",
    "show_task()\n"
   ]
  },
  {
   "cell_type": "markdown",
   "metadata": {},
   "source": [
    "Q4 : Temprature Converter"
   ]
  },
  {
   "cell_type": "code",
   "execution_count": 13,
   "metadata": {},
   "outputs": [
    {
     "name": "stdout",
     "output_type": "stream",
     "text": [
      "22 C =  71.6 F\n",
      "46 C =  114.8 F\n",
      "51 C =  123.8 F\n",
      "76 C =  168.8 F\n",
      "-6.0 C =  22 F\n",
      "7.0 C =  46 F\n",
      "10.0 C =  51 F\n",
      "24.0 C =  76 F\n"
     ]
    }
   ],
   "source": [
    "def Celsius_to_fahrenheit(celsius):\n",
    "    return 1.8*celsius+32\n",
    "def fahrenheit_to_Celsius(fahrenheit):\n",
    "    return (fahrenheit-32)//1.8\n",
    "for i in [22,46,51,76]:\n",
    "    print(i,\"C = \",Celsius_to_fahrenheit(i),\"F\")\n",
    "for i in [22,46,51,76]:\n",
    "    print(fahrenheit_to_Celsius(i),\"C = \",i,\"F\")"
   ]
  }
 ],
 "metadata": {
  "kernelspec": {
   "display_name": "base",
   "language": "python",
   "name": "python3"
  },
  "language_info": {
   "codemirror_mode": {
    "name": "ipython",
    "version": 3
   },
   "file_extension": ".py",
   "mimetype": "text/x-python",
   "name": "python",
   "nbconvert_exporter": "python",
   "pygments_lexer": "ipython3",
   "version": "3.10.9"
  }
 },
 "nbformat": 4,
 "nbformat_minor": 2
}
